{
  "nbformat": 4,
  "nbformat_minor": 0,
  "metadata": {
    "colab": {
      "provenance": [],
      "authorship_tag": "ABX9TyPu6GjpKw421JIWlrPbyb0a",
      "include_colab_link": true
    },
    "kernelspec": {
      "name": "python3",
      "display_name": "Python 3"
    },
    "language_info": {
      "name": "python"
    }
  },
  "cells": [
    {
      "cell_type": "markdown",
      "metadata": {
        "id": "view-in-github",
        "colab_type": "text"
      },
      "source": [
        "<a href=\"https://colab.research.google.com/github/odilenae/2401000170_ISHIMWE-Kwizera-Odile_ISA/blob/main/ISHIMWE_KWIZERA_Odile.ipynb\" target=\"_parent\"><img src=\"https://colab.research.google.com/assets/colab-badge.svg\" alt=\"Open In Colab\"/></a>"
      ]
    },
    {
      "cell_type": "code",
      "execution_count": 1,
      "metadata": {
        "id": "_L_6H5YPXRih"
      },
      "outputs": [],
      "source": [
        "import requests\n",
        "import json"
      ]
    },
    {
      "cell_type": "code",
      "source": [
        "!pip3 install requests"
      ],
      "metadata": {
        "colab": {
          "base_uri": "https://localhost:8080/"
        },
        "id": "UdEnHtthXYjC",
        "outputId": "866263b0-9b44-4edf-822c-ef3f92d6437c"
      },
      "execution_count": 2,
      "outputs": [
        {
          "output_type": "stream",
          "name": "stdout",
          "text": [
            "Requirement already satisfied: requests in /usr/local/lib/python3.11/dist-packages (2.32.3)\n",
            "Requirement already satisfied: charset-normalizer<4,>=2 in /usr/local/lib/python3.11/dist-packages (from requests) (3.4.2)\n",
            "Requirement already satisfied: idna<4,>=2.5 in /usr/local/lib/python3.11/dist-packages (from requests) (3.10)\n",
            "Requirement already satisfied: urllib3<3,>=1.21.1 in /usr/local/lib/python3.11/dist-packages (from requests) (2.4.0)\n",
            "Requirement already satisfied: certifi>=2017.4.17 in /usr/local/lib/python3.11/dist-packages (from requests) (2025.7.9)\n"
          ]
        }
      ]
    },
    {
      "cell_type": "code",
      "source": [
        "response = requests.get(\"https://api.stackexchange.com/2.3/questions?order=desc&sort=activity&site=stackoverflow\")"
      ],
      "metadata": {
        "id": "JYHqk82pXfLA"
      },
      "execution_count": 3,
      "outputs": []
    },
    {
      "cell_type": "code",
      "source": [
        "print (response.json())"
      ],
      "metadata": {
        "colab": {
          "base_uri": "https://localhost:8080/"
        },
        "id": "jXnaBozrXkr4",
        "outputId": "e7086d85-7e4e-4815-d5f5-7fafb4bd5b12"
      },
      "execution_count": 4,
      "outputs": [
        {
          "output_type": "stream",
          "name": "stdout",
          "text": [
            "{'items': [{'tags': ['c#', 'asynchronous'], 'owner': {'account_id': 5032545, 'reputation': 155, 'user_id': 6225921, 'user_type': 'registered', 'profile_image': 'https://www.gravatar.com/avatar/56f3cc2463b7b25f4254e19fc811565a?s=256&d=identicon&r=PG', 'display_name': 'chuackt', 'link': 'https://stackoverflow.com/users/6225921/chuackt'}, 'is_answered': False, 'view_count': 6, 'answer_count': 0, 'score': 0, 'last_activity_date': 1752319111, 'creation_date': 1752319111, 'question_id': 79699227, 'content_license': 'CC BY-SA 4.0', 'link': 'https://stackoverflow.com/questions/79699227/is-the-finish-awaited-process-executed-using-multi-thread-or-interrupt-function', 'title': 'Is the finish awaited process executed using multi thread or interrupt function in this scenario'}, {'tags': ['server', 'proxy', 'reverse-proxy', 'haproxy'], 'owner': {'account_id': 22630572, 'reputation': 35, 'user_id': 16808004, 'user_type': 'registered', 'profile_image': 'https://www.gravatar.com/avatar/a950633facb514126db7b83d30bb5aa5?s=256&d=identicon&r=PG&f=y&so-version=2', 'display_name': 'ashduino101', 'link': 'https://stackoverflow.com/users/16808004/ashduino101'}, 'is_answered': False, 'view_count': 15, 'answer_count': 1, 'score': 0, 'last_activity_date': 1752319086, 'creation_date': 1751934855, 'question_id': 79693542, 'content_license': 'CC BY-SA 4.0', 'link': 'https://stackoverflow.com/questions/79693542/is-it-possible-to-route-traffic-through-another-server-with-haproxy', 'title': 'Is it possible to route traffic through another server with HAProxy?'}, {'tags': ['list', 'cmake', 'macros', 'set', 'expansion'], 'owner': {'account_id': 12684651, 'reputation': 657, 'user_id': 9216943, 'user_type': 'registered', 'profile_image': 'https://lh6.googleusercontent.com/-Vq8ii5GQCKw/AAAAAAAAAAI/AAAAAAAAAU4/Q-nW6SPnbc4/s256-rj/photo.jpg', 'display_name': 'Zach ', 'link': 'https://stackoverflow.com/users/9216943/zach'}, 'is_answered': False, 'view_count': 34, 'closed_date': 1752174531, 'answer_count': 0, 'score': 0, 'last_activity_date': 1752319047, 'creation_date': 1751932622, 'last_edit_date': 1752319047, 'question_id': 79693529, 'link': 'https://stackoverflow.com/questions/79693529/why-does-this-cmake-list-variable-expansion-not-behave-as-expected', 'closed_reason': 'Not suitable for this site', 'title': 'Why does this CMake list variable expansion not behave as expected?'}, {'tags': ['binding', 'model', 'controller', 'sapui5'], 'owner': {'account_id': 4446456, 'reputation': 281, 'user_id': 3619598, 'user_type': 'registered', 'accept_rate': 29, 'profile_image': 'https://www.gravatar.com/avatar/e081ce0890a17e9aa8f4f05207770d68?s=256&d=identicon&r=PG&f=y&so-version=2', 'display_name': 'Simo03', 'link': 'https://stackoverflow.com/users/3619598/simo03'}, 'is_answered': True, 'view_count': 3909, 'answer_count': 1, 'score': 0, 'last_activity_date': 1752318949, 'creation_date': 1491240290, 'last_edit_date': 1491298844, 'question_id': 43190746, 'content_license': 'CC BY-SA 3.0', 'link': 'https://stackoverflow.com/questions/43190746/get-model-in-the-controller', 'title': 'Get model in the controller'}, {'tags': ['php', 'visual-studio-code', 'laragon', 'liveserver'], 'owner': {'account_id': 3014871, 'reputation': 11, 'user_id': 3142604, 'user_type': 'registered', 'profile_image': 'https://www.gravatar.com/avatar/b17b524b9604f851db8826f56393f2f0?s=256&d=identicon&r=PG', 'display_name': 'Jacob', 'link': 'https://stackoverflow.com/users/3142604/jacob'}, 'is_answered': False, 'view_count': 15, 'answer_count': 1, 'score': 0, 'last_activity_date': 1752318937, 'creation_date': 1752316298, 'question_id': 79699197, 'content_license': 'CC BY-SA 4.0', 'link': 'https://stackoverflow.com/questions/79699197/laragon-visual-studio-php-server-live-server-live-server-web-extension-not', 'title': 'Laragon + Visual Studio Php Server &amp; Live Server + Live Server Web Extension Not Auto-Reloading Together'}, {'tags': ['firefox', 'visual-c++', 'firefox-addon', 'xpcom'], 'owner': {'account_id': 2545182, 'reputation': 277, 'user_id': 2210121, 'user_type': 'registered', 'profile_image': 'https://www.gravatar.com/avatar/4f18bf0e19f80009751c524c63ab6a3f?s=256&d=identicon&r=PG', 'display_name': 'debanka', 'link': 'https://stackoverflow.com/users/2210121/debanka'}, 'is_answered': False, 'view_count': 524, 'answer_count': 0, 'score': 1, 'last_activity_date': 1752318932, 'creation_date': 1428657322, 'last_edit_date': 1752318932, 'question_id': 29557642, 'content_license': 'CC BY-SA 4.0', 'link': 'https://stackoverflow.com/questions/29557642/get-the-url-from-mozilla-firefox', 'title': 'Get the url from mozilla firefox'}, {'tags': ['javascript', 'jquery', 'asp.net-mvc', 'firefox'], 'owner': {'account_id': 4171233, 'reputation': 2116, 'user_id': 3418949, 'user_type': 'registered', 'accept_rate': 36, 'profile_image': 'https://i.sstatic.net/5BYeG.jpg?s=256', 'display_name': 'Olegs Jasjko', 'link': 'https://stackoverflow.com/users/3418949/olegs-jasjko'}, 'is_answered': False, 'view_count': 150, 'answer_count': 3, 'score': 0, 'last_activity_date': 1752318927, 'creation_date': 1428562444, 'last_edit_date': 1752318927, 'question_id': 29531727, 'content_license': 'CC BY-SA 4.0', 'link': 'https://stackoverflow.com/questions/29531727/jquery-hide-not-work-on-mozzila-but-works-on-chrome', 'title': 'JQuery hide() not work on Mozzila but works on Chrome'}, {'tags': ['javascript', 'firefox', 'firefox-addon'], 'owner': {'account_id': 5192087, 'reputation': 83, 'user_id': 4154714, 'user_type': 'registered', 'accept_rate': 0, 'profile_image': 'https://www.gravatar.com/avatar/83ecd05bed3661ee6eade12d8c226816?s=256&d=identicon&r=PG&f=y&so-version=2', 'display_name': 'Pawelsar1', 'link': 'https://stackoverflow.com/users/4154714/pawelsar1'}, 'is_answered': False, 'view_count': 11363, 'answer_count': 1, 'score': 2, 'last_activity_date': 1752318926, 'creation_date': 1429056204, 'last_edit_date': 1752318926, 'question_id': 29639448, 'content_license': 'CC BY-SA 4.0', 'link': 'https://stackoverflow.com/questions/29639448/inject-javascript-in-firefox', 'title': 'Inject Javascript in Firefox'}, {'tags': ['c#', 'web-applications', 'asp.net-core-webapi', '.net-8.0'], 'owner': {'account_id': 84265, 'reputation': 19052, 'user_id': 235671, 'user_type': 'registered', 'accept_rate': 81, 'profile_image': 'https://i.sstatic.net/xKXSM.png?s=256', 'display_name': 't3chb0t', 'link': 'https://stackoverflow.com/users/235671/t3chb0t'}, 'is_answered': False, 'view_count': 22, 'answer_count': 0, 'score': 0, 'last_activity_date': 1752318925, 'creation_date': 1752311910, 'last_edit_date': 1752318925, 'question_id': 79699143, 'content_license': 'CC BY-SA 4.0', 'link': 'https://stackoverflow.com/questions/79699143/refactoring-minimal-web-application-pattern-into-classic-full-program-cs-with-ma', 'title': 'Refactoring minimal web application pattern into classic full Program.cs with main'}, {'tags': ['javascript', 'firefox', 'firefox-addon', 'xpi'], 'owner': {'account_id': 148035, 'reputation': 333, 'user_id': 359525, 'user_type': 'registered', 'accept_rate': 20, 'profile_image': 'https://www.gravatar.com/avatar/5b6564d1d1e036811ba32426634905ab?s=256&d=identicon&r=PG', 'display_name': 'Bear of the Year', 'link': 'https://stackoverflow.com/users/359525/bear-of-the-year'}, 'is_answered': True, 'view_count': 1764, 'answer_count': 1, 'score': 14, 'last_activity_date': 1752318920, 'creation_date': 1429809375, 'last_edit_date': 1752318920, 'question_id': 29830253, 'content_license': 'CC BY-SA 4.0', 'link': 'https://stackoverflow.com/questions/29830253/firefox-addon-inline-installation-from-website', 'title': 'Firefox addon inline installation from website'}, {'tags': ['android', 'firefox', 'build', 'fennec'], 'owner': {'account_id': 2365132, 'reputation': 3, 'user_id': 2070939, 'user_type': 'registered', 'profile_image': 'https://www.gravatar.com/avatar/bfc515613ef6f7724c29c9317087d8e2?s=256&d=identicon&r=PG', 'display_name': 'Arrival Sentosa', 'link': 'https://stackoverflow.com/users/2070939/arrival-sentosa'}, 'is_answered': True, 'view_count': 284, 'accepted_answer_id': 31519663, 'answer_count': 1, 'score': 0, 'last_activity_date': 1752318919, 'creation_date': 1429791958, 'last_edit_date': 1752318919, 'question_id': 29823431, 'content_license': 'CC BY-SA 4.0', 'link': 'https://stackoverflow.com/questions/29823431/cant-mach-build-fennec-for-android', 'title': 'Can&#39;t mach build Fennec for Android'}, {'tags': ['php', 'arrays', 'codeigniter', 'query-builder', 'where-in'], 'owner': {'account_id': 2187449, 'reputation': 716, 'user_id': 1935525, 'user_type': 'registered', 'accept_rate': 40, 'profile_image': 'https://i.sstatic.net/vNdoM.jpg?s=256', 'display_name': 'Nabil Lemsieh', 'link': 'https://stackoverflow.com/users/1935525/nabil-lemsieh'}, 'is_answered': True, 'view_count': 2202, 'answer_count': 3, 'score': 1, 'last_activity_date': 1752318848, 'creation_date': 1394638392, 'last_edit_date': 1752318848, 'question_id': 22356372, 'content_license': 'CC BY-SA 4.0', 'link': 'https://stackoverflow.com/questions/22356372/codeigniter-renders-an-invalid-query-when-an-empty-array-is-passed-into-where-in', 'title': 'CodeIgniter renders an invalid query when an empty array is passed into where_in()'}, {'tags': ['ios', 'coreml', 'mlmodel'], 'owner': {'account_id': 2480699, 'reputation': 79, 'user_id': 2160239, 'user_type': 'registered', 'profile_image': 'https://www.gravatar.com/avatar/598a52cf71fc0382588571f76fa8c9c2?s=256&d=identicon&r=PG', 'display_name': 'Amit', 'link': 'https://stackoverflow.com/users/2160239/amit'}, 'is_answered': False, 'view_count': 238, 'answer_count': 3, 'score': 0, 'last_activity_date': 1752318848, 'creation_date': 1684844149, 'question_id': 76314647, 'content_license': 'CC BY-SA 4.0', 'link': 'https://stackoverflow.com/questions/76314647/core-ml-fetching-decryption-key-from-server-failed', 'title': 'Core ML Fetching decryption key from server failed'}, {'tags': ['java', 'spring', 'junit', 'mockito', 'resttemplate'], 'owner': {'account_id': 10356917, 'reputation': 1345, 'user_id': 7638553, 'user_type': 'registered', 'accept_rate': 64, 'profile_image': 'https://lh5.googleusercontent.com/-ngIx5RORnlI/AAAAAAAAAAI/AAAAAAAAKOQ/mn1Db_vLkU0/s256-rj/photo.jpg', 'display_name': 'Poonkodi Sivapragasam', 'link': 'https://stackoverflow.com/users/7638553/poonkodi-sivapragasam'}, 'is_answered': False, 'view_count': 214, 'answer_count': 1, 'score': -1, 'last_activity_date': 1752318753, 'creation_date': 1560398143, 'question_id': 56573173, 'content_license': 'CC BY-SA 4.0', 'link': 'https://stackoverflow.com/questions/56573173/unable-to-mock-a-json-response-in-spring-resttemplate', 'title': 'Unable to mock a JSON response in Spring RestTemplate'}, {'tags': ['authentication', 'login-script'], 'owner': {'user_type': 'does_not_exist', 'display_name': 'steve kristof'}, 'is_answered': True, 'view_count': 1684, 'answer_count': 6, 'score': 0, 'last_activity_date': 1752318734, 'creation_date': 1231837927, 'last_edit_date': 1231841532, 'question_id': 438405, 'content_license': 'CC BY-SA 2.5', 'link': 'https://stackoverflow.com/questions/438405/creating-a-login-section-im-new-an-need-some-serious-direction-please', 'title': 'Creating a login section - Im new an need some serious direction please!'}, {'tags': ['react-native', 'expo'], 'owner': {'account_id': 16785745, 'reputation': 709, 'user_id': 12134769, 'user_type': 'registered', 'profile_image': 'https://lh3.googleusercontent.com/a-/AAuE7mCoMCfOJ3NlPYAfh_8fnJLdUT_lsGBCCritmEd90g=k-s256', 'display_name': 'Patrick Iradukunda', 'link': 'https://stackoverflow.com/users/12134769/patrick-iradukunda'}, 'is_answered': True, 'view_count': 58913, 'accepted_answer_id': 63622054, 'answer_count': 16, 'score': 36, 'last_activity_date': 1752318708, 'creation_date': 1593883212, 'last_edit_date': 1653072086, 'question_id': 62732197, 'content_license': 'CC BY-SA 4.0', 'link': 'https://stackoverflow.com/questions/62732197/why-is-expo-not-refreshing-when-i-save-changes', 'title': 'Why is expo not refreshing when I save changes?'}, {'tags': ['python', 'mongodb', 'docker', 'flask', 'nginx'], 'owner': {'account_id': 1365179, 'reputation': 148, 'user_id': 1301779, 'user_type': 'registered', 'profile_image': 'https://www.gravatar.com/avatar/d1456a7c85e0e19594de0e9d0b7d675e?s=256&d=identicon&r=PG', 'display_name': 'UVuuMe', 'link': 'https://stackoverflow.com/users/1301779/uvuume'}, 'is_answered': False, 'view_count': 14, 'answer_count': 0, 'score': 0, 'last_activity_date': 1752318701, 'creation_date': 1752318342, 'last_edit_date': 1752318701, 'question_id': 79699218, 'content_license': 'CC BY-SA 4.0', 'link': 'https://stackoverflow.com/questions/79699218/cannot-connect-to-mongo-atlas-from-flask-app-inside-docker-with-nginx', 'title': 'Cannot connect to Mongo Atlas from Flask App inside Docker with Nginx'}, {'tags': ['python', 'onedrive', 'python-venv'], 'owner': {'account_id': 10695407, 'reputation': 23, 'user_id': 7872757, 'user_type': 'registered', 'profile_image': 'https://www.gravatar.com/avatar/89b36f8e89cb792fe231940fd97bcbc7?s=256&d=identicon&r=PG&f=y&so-version=2', 'display_name': 'Carlos', 'link': 'https://stackoverflow.com/users/7872757/carlos'}, 'is_answered': False, 'view_count': 1122, 'answer_count': 1, 'score': 2, 'last_activity_date': 1752318651, 'creation_date': 1663853430, 'question_id': 73815565, 'content_license': 'CC BY-SA 4.0', 'link': 'https://stackoverflow.com/questions/73815565/removing-python-venv-from-onedrive', 'title': 'Removing Python venv from OneDrive'}, {'tags': ['spring-boot', 'kotlin', 'discord', 'spring-oauth2'], 'owner': {'account_id': 1314915, 'reputation': 8039, 'user_id': 1262024, 'user_type': 'registered', 'accept_rate': 88, 'profile_image': 'https://i.sstatic.net/zKgL8.jpg?s=256', 'display_name': 'Smajl', 'link': 'https://stackoverflow.com/users/1262024/smajl'}, 'is_answered': False, 'view_count': 41, 'answer_count': 0, 'score': 0, 'last_activity_date': 1752318639, 'creation_date': 1752146492, 'last_edit_date': 1752318639, 'question_id': 79696979, 'content_license': 'CC BY-SA 4.0', 'link': 'https://stackoverflow.com/questions/79696979/no-user-context-present-after-finishing-oauth2-flow', 'title': 'No user context present after finishing Oauth2 flow'}, {'tags': ['c#', '.net-core', 'azure-communication-services'], 'owner': {'account_id': 9526200, 'reputation': 187, 'user_id': 7079339, 'user_type': 'registered', 'accept_rate': 43, 'profile_image': 'https://www.gravatar.com/avatar/9ad3e55f00118075beeba887f2bbd605?s=256&d=identicon&r=PG&f=y&so-version=2', 'display_name': 'Vladimir B', 'link': 'https://stackoverflow.com/users/7079339/vladimir-b'}, 'is_answered': False, 'view_count': 36, 'closed_date': 1752197747, 'answer_count': 0, 'score': 1, 'last_activity_date': 1752318490, 'creation_date': 1752098204, 'last_edit_date': 1752318490, 'question_id': 79696298, 'link': 'https://stackoverflow.com/questions/79696298/how-to-accept-incoming-teams-call-in-acs-call-automation-sdk-and-transfer-to-sip', 'closed_reason': 'Needs more focus', 'title': 'How to accept incoming Teams call in ACS Call Automation SDK and transfer to SIP without Teams Phone license?'}, {'tags': ['python', 'pandas', 'melt', 'pandas-melt'], 'owner': {'account_id': 5581563, 'reputation': 625, 'user_id': 4423300, 'user_type': 'registered', 'accept_rate': 100, 'profile_image': 'https://www.gravatar.com/avatar/984a0cf144b2868efab819eb5661f757?s=256&d=identicon&r=PG&f=y&so-version=2', 'display_name': 'SheCodes', 'link': 'https://stackoverflow.com/users/4423300/shecodes'}, 'is_answered': False, 'view_count': 81, 'answer_count': 1, 'score': 0, 'last_activity_date': 1752318432, 'creation_date': 1752041642, 'last_edit_date': 1752259013, 'question_id': 79695141, 'content_license': 'CC BY-SA 4.0', 'link': 'https://stackoverflow.com/questions/79695141/csv-file-wide-to-long-float-value-gets-truncated-and-getting-integer-for-index', 'title': 'csv file wide to long. Float value gets truncated and getting integer for index column'}, {'tags': ['python', 'snowflake-cloud-data-platform', 'udtf'], 'owner': {'account_id': 39369269, 'reputation': 1, 'user_id': 29242723, 'user_type': 'registered', 'profile_image': 'https://www.gravatar.com/avatar/9934391fbcc0f7d77e52ccfdecd7e798?s=256&d=identicon&r=PG&f=y&so-version=2', 'display_name': 'Nishant Saraswat', 'link': 'https://stackoverflow.com/users/29242723/nishant-saraswat'}, 'is_answered': False, 'view_count': 12, 'answer_count': 0, 'score': -1, 'last_activity_date': 1752318429, 'creation_date': 1752318429, 'question_id': 79699219, 'content_license': 'CC BY-SA 4.0', 'link': 'https://stackoverflow.com/questions/79699219/calling-snowflake-udtf-from-snowflake-stored-procedure', 'title': 'Calling snowflake udtf from snowflake stored procedure'}, {'tags': ['node.js', 'typescript', 'large-language-model', 'model-context-protocol', 'anthropic'], 'owner': {'account_id': 5186979, 'reputation': 1559, 'user_id': 4151080, 'user_type': 'registered', 'accept_rate': 56, 'profile_image': 'https://lh5.googleusercontent.com/-GtVcat7nYvs/AAAAAAAAAAI/AAAAAAAAABU/0a5yjXMEkWY/s256-rj/photo.jpg', 'display_name': 'Jainam Jhaveri', 'link': 'https://stackoverflow.com/users/4151080/jainam-jhaveri'}, 'is_answered': False, 'view_count': 10, 'answer_count': 0, 'score': -1, 'last_activity_date': 1752318299, 'creation_date': 1752318299, 'question_id': 79699217, 'content_license': 'CC BY-SA 4.0', 'link': 'https://stackoverflow.com/questions/79699217/how-to-handle-token-limit-issues-when-processing-large-json-responses-via-mcp-cl', 'title': 'How to handle token limit issues when processing large JSON responses via MCP client-server with LLMs?'}, {'tags': ['mariadb', 'mariadb-10.6'], 'owner': {'account_id': 3202454, 'reputation': 841, 'user_id': 2704265, 'user_type': 'registered', 'accept_rate': 11, 'profile_image': 'https://www.gravatar.com/avatar/35f553ba7ce26c0a81ed223cc179ea12?s=256&d=identicon&r=PG&f=y&so-version=2', 'display_name': 'alancc', 'link': 'https://stackoverflow.com/users/2704265/alancc'}, 'is_answered': False, 'view_count': 12, 'answer_count': 0, 'score': 0, 'last_activity_date': 1752318260, 'creation_date': 1752316075, 'last_edit_date': 1752318260, 'question_id': 79699194, 'content_license': 'CC BY-SA 4.0', 'link': 'https://stackoverflow.com/questions/79699194/increase-tmp-table-size-max-heap-table-size-does-not-improve-tmp-tables-todisk-p', 'title': 'Increase tmp_table_size/max_heap_table_size does not improve Tmp_Tables_ToDisk percentage'}, {'tags': ['spring', 'spring-security', 'checkmarx', 'secure-coding', 'checkmark'], 'owner': {'account_id': 3605417, 'reputation': 1121, 'user_id': 3007690, 'user_type': 'registered', 'accept_rate': 64, 'profile_image': 'https://i.sstatic.net/0rsC3.jpg?s=256', 'display_name': 'kandarp', 'link': 'https://stackoverflow.com/users/3007690/kandarp'}, 'is_answered': False, 'view_count': 8581, 'answer_count': 1, 'score': 1, 'last_activity_date': 1752318240, 'creation_date': 1613920833, 'last_edit_date': 1614769558, 'question_id': 66303835, 'content_license': 'CC BY-SA 4.0', 'link': 'https://stackoverflow.com/questions/66303835/checkmarx-unsafe-object-binding', 'title': 'Checkmarx: Unsafe object binding'}, {'tags': ['html', 'image', 'directory', 'notepad'], 'owner': {'account_id': 18512608, 'reputation': 1, 'user_id': 13487448, 'user_type': 'registered', 'profile_image': 'https://www.gravatar.com/avatar/b89b0849eb60704223e7dc7aadf74be4?s=256&d=identicon&r=PG&f=y&so-version=2', 'display_name': 'Infinity868', 'link': 'https://stackoverflow.com/users/13487448/infinity868'}, 'is_answered': False, 'view_count': 25597, 'answer_count': 2, 'score': 0, 'last_activity_date': 1752318240, 'creation_date': 1588818716, 'question_id': 61648863, 'content_license': 'CC BY-SA 4.0', 'link': 'https://stackoverflow.com/questions/61648863/how-do-i-add-multiple-pages-to-my-html-website-in-notepad', 'title': 'How do I add multiple pages to my html website in notepad?'}, {'tags': ['java', 'json', 'hibernate', 'jpa', 'spring-data'], 'owner': {'account_id': 324759, 'reputation': 1667, 'user_id': 645536, 'user_type': 'registered', 'accept_rate': 50, 'profile_image': 'https://www.gravatar.com/avatar/dccba6feed6b02e32391e34559fedb25?s=256&d=identicon&r=PG&f=y&so-version=2', 'display_name': 'anirus', 'link': 'https://stackoverflow.com/users/645536/anirus'}, 'is_answered': False, 'view_count': 10022, 'answer_count': 3, 'score': 4, 'last_activity_date': 1752318240, 'creation_date': 1490412390, 'last_edit_date': 1490450513, 'question_id': 43012174, 'content_license': 'CC BY-SA 3.0', 'link': 'https://stackoverflow.com/questions/43012174/save-entity-object-with-foreign-key-using-crudrepository', 'title': 'Save entity object with foreign key using CrudRepository'}, {'tags': ['spring-boot', 'openldap', 'spring-ldap'], 'owner': {'account_id': 2411615, 'reputation': 1043, 'user_id': 2106556, 'user_type': 'registered', 'accept_rate': 75, 'profile_image': 'https://www.gravatar.com/avatar/b307a460f2175c919dcf7841cd26a442?s=256&d=identicon&r=PG', 'display_name': 'wmfairuz', 'link': 'https://stackoverflow.com/users/2106556/wmfairuz'}, 'is_answered': False, 'view_count': 9848, 'answer_count': 1, 'score': 1, 'last_activity_date': 1752318240, 'creation_date': 1450781077, 'question_id': 34413972, 'content_license': 'CC BY-SA 3.0', 'link': 'https://stackoverflow.com/questions/34413972/invocation-of-init-method-failed-nested-exception-is-java-lang-abstractmethoder', 'title': 'Invocation of init method failed; nested exception is java.lang.AbstractMethodError'}, {'tags': ['python', 'android', 'ios', 'kotlin', 'android-studio'], 'owner': {'account_id': 42991274, 'reputation': 1, 'user_id': 31021893, 'user_type': 'registered', 'profile_image': 'https://www.gravatar.com/avatar/5ba67075dc12bfe70195ea4e6c428ac8?s=256&d=identicon&r=PG&f=y&so-version=2', 'display_name': 'Rayyan Shaik', 'link': 'https://stackoverflow.com/users/31021893/rayyan-shaik'}, 'is_answered': False, 'view_count': 18, 'closed_date': 1752318552, 'answer_count': 0, 'score': -3, 'last_activity_date': 1752318143, 'creation_date': 1752318143, 'question_id': 79699216, 'link': 'https://stackoverflow.com/questions/79699216/beginner-trying-to-build-a-mobile-app-from-scratch-what-tools-language-and-f', 'closed_reason': 'Not suitable for this site', 'title': 'Beginner Trying to Build a Mobile App from Scratch — What Tools, Language, and Frameworks Should I Use in 2025?'}, {'tags': ['reactjs', 'tailwind-css', 'postcss'], 'owner': {'account_id': 29733727, 'reputation': 1, 'user_id': 22787754, 'user_type': 'registered', 'profile_image': 'https://www.gravatar.com/avatar/49a8ae995f6640858cefd58155cc8248?s=256&d=identicon&r=PG&f=y&so-version=2', 'display_name': 'DrRangoo', 'link': 'https://stackoverflow.com/users/22787754/drrangoo'}, 'is_answered': False, 'view_count': 6, 'answer_count': 0, 'score': -1, 'last_activity_date': 1752318123, 'creation_date': 1752318123, 'question_id': 79699215, 'content_license': 'CC BY-SA 4.0', 'link': 'https://stackoverflow.com/questions/79699215/add-font-in-tailwind-vite-project', 'title': 'Add Font in Tailwind (Vite Project)'}], 'has_more': True, 'quota_max': 300, 'quota_remaining': 299}\n"
          ]
        }
      ]
    },
    {
      "cell_type": "code",
      "source": [
        "print (response.json()['items'])"
      ],
      "metadata": {
        "colab": {
          "base_uri": "https://localhost:8080/"
        },
        "id": "mrYAqWz0Xt_Q",
        "outputId": "d4d64c74-949e-4e8c-8387-0a4619b5901d"
      },
      "execution_count": 6,
      "outputs": [
        {
          "output_type": "stream",
          "name": "stdout",
          "text": [
            "[{'tags': ['c#', 'asynchronous'], 'owner': {'account_id': 5032545, 'reputation': 155, 'user_id': 6225921, 'user_type': 'registered', 'profile_image': 'https://www.gravatar.com/avatar/56f3cc2463b7b25f4254e19fc811565a?s=256&d=identicon&r=PG', 'display_name': 'chuackt', 'link': 'https://stackoverflow.com/users/6225921/chuackt'}, 'is_answered': False, 'view_count': 6, 'answer_count': 0, 'score': 0, 'last_activity_date': 1752319111, 'creation_date': 1752319111, 'question_id': 79699227, 'content_license': 'CC BY-SA 4.0', 'link': 'https://stackoverflow.com/questions/79699227/is-the-finish-awaited-process-executed-using-multi-thread-or-interrupt-function', 'title': 'Is the finish awaited process executed using multi thread or interrupt function in this scenario'}, {'tags': ['server', 'proxy', 'reverse-proxy', 'haproxy'], 'owner': {'account_id': 22630572, 'reputation': 35, 'user_id': 16808004, 'user_type': 'registered', 'profile_image': 'https://www.gravatar.com/avatar/a950633facb514126db7b83d30bb5aa5?s=256&d=identicon&r=PG&f=y&so-version=2', 'display_name': 'ashduino101', 'link': 'https://stackoverflow.com/users/16808004/ashduino101'}, 'is_answered': False, 'view_count': 15, 'answer_count': 1, 'score': 0, 'last_activity_date': 1752319086, 'creation_date': 1751934855, 'question_id': 79693542, 'content_license': 'CC BY-SA 4.0', 'link': 'https://stackoverflow.com/questions/79693542/is-it-possible-to-route-traffic-through-another-server-with-haproxy', 'title': 'Is it possible to route traffic through another server with HAProxy?'}, {'tags': ['list', 'cmake', 'macros', 'set', 'expansion'], 'owner': {'account_id': 12684651, 'reputation': 657, 'user_id': 9216943, 'user_type': 'registered', 'profile_image': 'https://lh6.googleusercontent.com/-Vq8ii5GQCKw/AAAAAAAAAAI/AAAAAAAAAU4/Q-nW6SPnbc4/s256-rj/photo.jpg', 'display_name': 'Zach ', 'link': 'https://stackoverflow.com/users/9216943/zach'}, 'is_answered': False, 'view_count': 34, 'closed_date': 1752174531, 'answer_count': 0, 'score': 0, 'last_activity_date': 1752319047, 'creation_date': 1751932622, 'last_edit_date': 1752319047, 'question_id': 79693529, 'link': 'https://stackoverflow.com/questions/79693529/why-does-this-cmake-list-variable-expansion-not-behave-as-expected', 'closed_reason': 'Not suitable for this site', 'title': 'Why does this CMake list variable expansion not behave as expected?'}, {'tags': ['binding', 'model', 'controller', 'sapui5'], 'owner': {'account_id': 4446456, 'reputation': 281, 'user_id': 3619598, 'user_type': 'registered', 'accept_rate': 29, 'profile_image': 'https://www.gravatar.com/avatar/e081ce0890a17e9aa8f4f05207770d68?s=256&d=identicon&r=PG&f=y&so-version=2', 'display_name': 'Simo03', 'link': 'https://stackoverflow.com/users/3619598/simo03'}, 'is_answered': True, 'view_count': 3909, 'answer_count': 1, 'score': 0, 'last_activity_date': 1752318949, 'creation_date': 1491240290, 'last_edit_date': 1491298844, 'question_id': 43190746, 'content_license': 'CC BY-SA 3.0', 'link': 'https://stackoverflow.com/questions/43190746/get-model-in-the-controller', 'title': 'Get model in the controller'}, {'tags': ['php', 'visual-studio-code', 'laragon', 'liveserver'], 'owner': {'account_id': 3014871, 'reputation': 11, 'user_id': 3142604, 'user_type': 'registered', 'profile_image': 'https://www.gravatar.com/avatar/b17b524b9604f851db8826f56393f2f0?s=256&d=identicon&r=PG', 'display_name': 'Jacob', 'link': 'https://stackoverflow.com/users/3142604/jacob'}, 'is_answered': False, 'view_count': 15, 'answer_count': 1, 'score': 0, 'last_activity_date': 1752318937, 'creation_date': 1752316298, 'question_id': 79699197, 'content_license': 'CC BY-SA 4.0', 'link': 'https://stackoverflow.com/questions/79699197/laragon-visual-studio-php-server-live-server-live-server-web-extension-not', 'title': 'Laragon + Visual Studio Php Server &amp; Live Server + Live Server Web Extension Not Auto-Reloading Together'}, {'tags': ['firefox', 'visual-c++', 'firefox-addon', 'xpcom'], 'owner': {'account_id': 2545182, 'reputation': 277, 'user_id': 2210121, 'user_type': 'registered', 'profile_image': 'https://www.gravatar.com/avatar/4f18bf0e19f80009751c524c63ab6a3f?s=256&d=identicon&r=PG', 'display_name': 'debanka', 'link': 'https://stackoverflow.com/users/2210121/debanka'}, 'is_answered': False, 'view_count': 524, 'answer_count': 0, 'score': 1, 'last_activity_date': 1752318932, 'creation_date': 1428657322, 'last_edit_date': 1752318932, 'question_id': 29557642, 'content_license': 'CC BY-SA 4.0', 'link': 'https://stackoverflow.com/questions/29557642/get-the-url-from-mozilla-firefox', 'title': 'Get the url from mozilla firefox'}, {'tags': ['javascript', 'jquery', 'asp.net-mvc', 'firefox'], 'owner': {'account_id': 4171233, 'reputation': 2116, 'user_id': 3418949, 'user_type': 'registered', 'accept_rate': 36, 'profile_image': 'https://i.sstatic.net/5BYeG.jpg?s=256', 'display_name': 'Olegs Jasjko', 'link': 'https://stackoverflow.com/users/3418949/olegs-jasjko'}, 'is_answered': False, 'view_count': 150, 'answer_count': 3, 'score': 0, 'last_activity_date': 1752318927, 'creation_date': 1428562444, 'last_edit_date': 1752318927, 'question_id': 29531727, 'content_license': 'CC BY-SA 4.0', 'link': 'https://stackoverflow.com/questions/29531727/jquery-hide-not-work-on-mozzila-but-works-on-chrome', 'title': 'JQuery hide() not work on Mozzila but works on Chrome'}, {'tags': ['javascript', 'firefox', 'firefox-addon'], 'owner': {'account_id': 5192087, 'reputation': 83, 'user_id': 4154714, 'user_type': 'registered', 'accept_rate': 0, 'profile_image': 'https://www.gravatar.com/avatar/83ecd05bed3661ee6eade12d8c226816?s=256&d=identicon&r=PG&f=y&so-version=2', 'display_name': 'Pawelsar1', 'link': 'https://stackoverflow.com/users/4154714/pawelsar1'}, 'is_answered': False, 'view_count': 11363, 'answer_count': 1, 'score': 2, 'last_activity_date': 1752318926, 'creation_date': 1429056204, 'last_edit_date': 1752318926, 'question_id': 29639448, 'content_license': 'CC BY-SA 4.0', 'link': 'https://stackoverflow.com/questions/29639448/inject-javascript-in-firefox', 'title': 'Inject Javascript in Firefox'}, {'tags': ['c#', 'web-applications', 'asp.net-core-webapi', '.net-8.0'], 'owner': {'account_id': 84265, 'reputation': 19052, 'user_id': 235671, 'user_type': 'registered', 'accept_rate': 81, 'profile_image': 'https://i.sstatic.net/xKXSM.png?s=256', 'display_name': 't3chb0t', 'link': 'https://stackoverflow.com/users/235671/t3chb0t'}, 'is_answered': False, 'view_count': 22, 'answer_count': 0, 'score': 0, 'last_activity_date': 1752318925, 'creation_date': 1752311910, 'last_edit_date': 1752318925, 'question_id': 79699143, 'content_license': 'CC BY-SA 4.0', 'link': 'https://stackoverflow.com/questions/79699143/refactoring-minimal-web-application-pattern-into-classic-full-program-cs-with-ma', 'title': 'Refactoring minimal web application pattern into classic full Program.cs with main'}, {'tags': ['javascript', 'firefox', 'firefox-addon', 'xpi'], 'owner': {'account_id': 148035, 'reputation': 333, 'user_id': 359525, 'user_type': 'registered', 'accept_rate': 20, 'profile_image': 'https://www.gravatar.com/avatar/5b6564d1d1e036811ba32426634905ab?s=256&d=identicon&r=PG', 'display_name': 'Bear of the Year', 'link': 'https://stackoverflow.com/users/359525/bear-of-the-year'}, 'is_answered': True, 'view_count': 1764, 'answer_count': 1, 'score': 14, 'last_activity_date': 1752318920, 'creation_date': 1429809375, 'last_edit_date': 1752318920, 'question_id': 29830253, 'content_license': 'CC BY-SA 4.0', 'link': 'https://stackoverflow.com/questions/29830253/firefox-addon-inline-installation-from-website', 'title': 'Firefox addon inline installation from website'}, {'tags': ['android', 'firefox', 'build', 'fennec'], 'owner': {'account_id': 2365132, 'reputation': 3, 'user_id': 2070939, 'user_type': 'registered', 'profile_image': 'https://www.gravatar.com/avatar/bfc515613ef6f7724c29c9317087d8e2?s=256&d=identicon&r=PG', 'display_name': 'Arrival Sentosa', 'link': 'https://stackoverflow.com/users/2070939/arrival-sentosa'}, 'is_answered': True, 'view_count': 284, 'accepted_answer_id': 31519663, 'answer_count': 1, 'score': 0, 'last_activity_date': 1752318919, 'creation_date': 1429791958, 'last_edit_date': 1752318919, 'question_id': 29823431, 'content_license': 'CC BY-SA 4.0', 'link': 'https://stackoverflow.com/questions/29823431/cant-mach-build-fennec-for-android', 'title': 'Can&#39;t mach build Fennec for Android'}, {'tags': ['php', 'arrays', 'codeigniter', 'query-builder', 'where-in'], 'owner': {'account_id': 2187449, 'reputation': 716, 'user_id': 1935525, 'user_type': 'registered', 'accept_rate': 40, 'profile_image': 'https://i.sstatic.net/vNdoM.jpg?s=256', 'display_name': 'Nabil Lemsieh', 'link': 'https://stackoverflow.com/users/1935525/nabil-lemsieh'}, 'is_answered': True, 'view_count': 2202, 'answer_count': 3, 'score': 1, 'last_activity_date': 1752318848, 'creation_date': 1394638392, 'last_edit_date': 1752318848, 'question_id': 22356372, 'content_license': 'CC BY-SA 4.0', 'link': 'https://stackoverflow.com/questions/22356372/codeigniter-renders-an-invalid-query-when-an-empty-array-is-passed-into-where-in', 'title': 'CodeIgniter renders an invalid query when an empty array is passed into where_in()'}, {'tags': ['ios', 'coreml', 'mlmodel'], 'owner': {'account_id': 2480699, 'reputation': 79, 'user_id': 2160239, 'user_type': 'registered', 'profile_image': 'https://www.gravatar.com/avatar/598a52cf71fc0382588571f76fa8c9c2?s=256&d=identicon&r=PG', 'display_name': 'Amit', 'link': 'https://stackoverflow.com/users/2160239/amit'}, 'is_answered': False, 'view_count': 238, 'answer_count': 3, 'score': 0, 'last_activity_date': 1752318848, 'creation_date': 1684844149, 'question_id': 76314647, 'content_license': 'CC BY-SA 4.0', 'link': 'https://stackoverflow.com/questions/76314647/core-ml-fetching-decryption-key-from-server-failed', 'title': 'Core ML Fetching decryption key from server failed'}, {'tags': ['java', 'spring', 'junit', 'mockito', 'resttemplate'], 'owner': {'account_id': 10356917, 'reputation': 1345, 'user_id': 7638553, 'user_type': 'registered', 'accept_rate': 64, 'profile_image': 'https://lh5.googleusercontent.com/-ngIx5RORnlI/AAAAAAAAAAI/AAAAAAAAKOQ/mn1Db_vLkU0/s256-rj/photo.jpg', 'display_name': 'Poonkodi Sivapragasam', 'link': 'https://stackoverflow.com/users/7638553/poonkodi-sivapragasam'}, 'is_answered': False, 'view_count': 214, 'answer_count': 1, 'score': -1, 'last_activity_date': 1752318753, 'creation_date': 1560398143, 'question_id': 56573173, 'content_license': 'CC BY-SA 4.0', 'link': 'https://stackoverflow.com/questions/56573173/unable-to-mock-a-json-response-in-spring-resttemplate', 'title': 'Unable to mock a JSON response in Spring RestTemplate'}, {'tags': ['authentication', 'login-script'], 'owner': {'user_type': 'does_not_exist', 'display_name': 'steve kristof'}, 'is_answered': True, 'view_count': 1684, 'answer_count': 6, 'score': 0, 'last_activity_date': 1752318734, 'creation_date': 1231837927, 'last_edit_date': 1231841532, 'question_id': 438405, 'content_license': 'CC BY-SA 2.5', 'link': 'https://stackoverflow.com/questions/438405/creating-a-login-section-im-new-an-need-some-serious-direction-please', 'title': 'Creating a login section - Im new an need some serious direction please!'}, {'tags': ['react-native', 'expo'], 'owner': {'account_id': 16785745, 'reputation': 709, 'user_id': 12134769, 'user_type': 'registered', 'profile_image': 'https://lh3.googleusercontent.com/a-/AAuE7mCoMCfOJ3NlPYAfh_8fnJLdUT_lsGBCCritmEd90g=k-s256', 'display_name': 'Patrick Iradukunda', 'link': 'https://stackoverflow.com/users/12134769/patrick-iradukunda'}, 'is_answered': True, 'view_count': 58913, 'accepted_answer_id': 63622054, 'answer_count': 16, 'score': 36, 'last_activity_date': 1752318708, 'creation_date': 1593883212, 'last_edit_date': 1653072086, 'question_id': 62732197, 'content_license': 'CC BY-SA 4.0', 'link': 'https://stackoverflow.com/questions/62732197/why-is-expo-not-refreshing-when-i-save-changes', 'title': 'Why is expo not refreshing when I save changes?'}, {'tags': ['python', 'mongodb', 'docker', 'flask', 'nginx'], 'owner': {'account_id': 1365179, 'reputation': 148, 'user_id': 1301779, 'user_type': 'registered', 'profile_image': 'https://www.gravatar.com/avatar/d1456a7c85e0e19594de0e9d0b7d675e?s=256&d=identicon&r=PG', 'display_name': 'UVuuMe', 'link': 'https://stackoverflow.com/users/1301779/uvuume'}, 'is_answered': False, 'view_count': 14, 'answer_count': 0, 'score': 0, 'last_activity_date': 1752318701, 'creation_date': 1752318342, 'last_edit_date': 1752318701, 'question_id': 79699218, 'content_license': 'CC BY-SA 4.0', 'link': 'https://stackoverflow.com/questions/79699218/cannot-connect-to-mongo-atlas-from-flask-app-inside-docker-with-nginx', 'title': 'Cannot connect to Mongo Atlas from Flask App inside Docker with Nginx'}, {'tags': ['python', 'onedrive', 'python-venv'], 'owner': {'account_id': 10695407, 'reputation': 23, 'user_id': 7872757, 'user_type': 'registered', 'profile_image': 'https://www.gravatar.com/avatar/89b36f8e89cb792fe231940fd97bcbc7?s=256&d=identicon&r=PG&f=y&so-version=2', 'display_name': 'Carlos', 'link': 'https://stackoverflow.com/users/7872757/carlos'}, 'is_answered': False, 'view_count': 1122, 'answer_count': 1, 'score': 2, 'last_activity_date': 1752318651, 'creation_date': 1663853430, 'question_id': 73815565, 'content_license': 'CC BY-SA 4.0', 'link': 'https://stackoverflow.com/questions/73815565/removing-python-venv-from-onedrive', 'title': 'Removing Python venv from OneDrive'}, {'tags': ['spring-boot', 'kotlin', 'discord', 'spring-oauth2'], 'owner': {'account_id': 1314915, 'reputation': 8039, 'user_id': 1262024, 'user_type': 'registered', 'accept_rate': 88, 'profile_image': 'https://i.sstatic.net/zKgL8.jpg?s=256', 'display_name': 'Smajl', 'link': 'https://stackoverflow.com/users/1262024/smajl'}, 'is_answered': False, 'view_count': 41, 'answer_count': 0, 'score': 0, 'last_activity_date': 1752318639, 'creation_date': 1752146492, 'last_edit_date': 1752318639, 'question_id': 79696979, 'content_license': 'CC BY-SA 4.0', 'link': 'https://stackoverflow.com/questions/79696979/no-user-context-present-after-finishing-oauth2-flow', 'title': 'No user context present after finishing Oauth2 flow'}, {'tags': ['c#', '.net-core', 'azure-communication-services'], 'owner': {'account_id': 9526200, 'reputation': 187, 'user_id': 7079339, 'user_type': 'registered', 'accept_rate': 43, 'profile_image': 'https://www.gravatar.com/avatar/9ad3e55f00118075beeba887f2bbd605?s=256&d=identicon&r=PG&f=y&so-version=2', 'display_name': 'Vladimir B', 'link': 'https://stackoverflow.com/users/7079339/vladimir-b'}, 'is_answered': False, 'view_count': 36, 'closed_date': 1752197747, 'answer_count': 0, 'score': 1, 'last_activity_date': 1752318490, 'creation_date': 1752098204, 'last_edit_date': 1752318490, 'question_id': 79696298, 'link': 'https://stackoverflow.com/questions/79696298/how-to-accept-incoming-teams-call-in-acs-call-automation-sdk-and-transfer-to-sip', 'closed_reason': 'Needs more focus', 'title': 'How to accept incoming Teams call in ACS Call Automation SDK and transfer to SIP without Teams Phone license?'}, {'tags': ['python', 'pandas', 'melt', 'pandas-melt'], 'owner': {'account_id': 5581563, 'reputation': 625, 'user_id': 4423300, 'user_type': 'registered', 'accept_rate': 100, 'profile_image': 'https://www.gravatar.com/avatar/984a0cf144b2868efab819eb5661f757?s=256&d=identicon&r=PG&f=y&so-version=2', 'display_name': 'SheCodes', 'link': 'https://stackoverflow.com/users/4423300/shecodes'}, 'is_answered': False, 'view_count': 81, 'answer_count': 1, 'score': 0, 'last_activity_date': 1752318432, 'creation_date': 1752041642, 'last_edit_date': 1752259013, 'question_id': 79695141, 'content_license': 'CC BY-SA 4.0', 'link': 'https://stackoverflow.com/questions/79695141/csv-file-wide-to-long-float-value-gets-truncated-and-getting-integer-for-index', 'title': 'csv file wide to long. Float value gets truncated and getting integer for index column'}, {'tags': ['python', 'snowflake-cloud-data-platform', 'udtf'], 'owner': {'account_id': 39369269, 'reputation': 1, 'user_id': 29242723, 'user_type': 'registered', 'profile_image': 'https://www.gravatar.com/avatar/9934391fbcc0f7d77e52ccfdecd7e798?s=256&d=identicon&r=PG&f=y&so-version=2', 'display_name': 'Nishant Saraswat', 'link': 'https://stackoverflow.com/users/29242723/nishant-saraswat'}, 'is_answered': False, 'view_count': 12, 'answer_count': 0, 'score': -1, 'last_activity_date': 1752318429, 'creation_date': 1752318429, 'question_id': 79699219, 'content_license': 'CC BY-SA 4.0', 'link': 'https://stackoverflow.com/questions/79699219/calling-snowflake-udtf-from-snowflake-stored-procedure', 'title': 'Calling snowflake udtf from snowflake stored procedure'}, {'tags': ['node.js', 'typescript', 'large-language-model', 'model-context-protocol', 'anthropic'], 'owner': {'account_id': 5186979, 'reputation': 1559, 'user_id': 4151080, 'user_type': 'registered', 'accept_rate': 56, 'profile_image': 'https://lh5.googleusercontent.com/-GtVcat7nYvs/AAAAAAAAAAI/AAAAAAAAABU/0a5yjXMEkWY/s256-rj/photo.jpg', 'display_name': 'Jainam Jhaveri', 'link': 'https://stackoverflow.com/users/4151080/jainam-jhaveri'}, 'is_answered': False, 'view_count': 10, 'answer_count': 0, 'score': -1, 'last_activity_date': 1752318299, 'creation_date': 1752318299, 'question_id': 79699217, 'content_license': 'CC BY-SA 4.0', 'link': 'https://stackoverflow.com/questions/79699217/how-to-handle-token-limit-issues-when-processing-large-json-responses-via-mcp-cl', 'title': 'How to handle token limit issues when processing large JSON responses via MCP client-server with LLMs?'}, {'tags': ['mariadb', 'mariadb-10.6'], 'owner': {'account_id': 3202454, 'reputation': 841, 'user_id': 2704265, 'user_type': 'registered', 'accept_rate': 11, 'profile_image': 'https://www.gravatar.com/avatar/35f553ba7ce26c0a81ed223cc179ea12?s=256&d=identicon&r=PG&f=y&so-version=2', 'display_name': 'alancc', 'link': 'https://stackoverflow.com/users/2704265/alancc'}, 'is_answered': False, 'view_count': 12, 'answer_count': 0, 'score': 0, 'last_activity_date': 1752318260, 'creation_date': 1752316075, 'last_edit_date': 1752318260, 'question_id': 79699194, 'content_license': 'CC BY-SA 4.0', 'link': 'https://stackoverflow.com/questions/79699194/increase-tmp-table-size-max-heap-table-size-does-not-improve-tmp-tables-todisk-p', 'title': 'Increase tmp_table_size/max_heap_table_size does not improve Tmp_Tables_ToDisk percentage'}, {'tags': ['spring', 'spring-security', 'checkmarx', 'secure-coding', 'checkmark'], 'owner': {'account_id': 3605417, 'reputation': 1121, 'user_id': 3007690, 'user_type': 'registered', 'accept_rate': 64, 'profile_image': 'https://i.sstatic.net/0rsC3.jpg?s=256', 'display_name': 'kandarp', 'link': 'https://stackoverflow.com/users/3007690/kandarp'}, 'is_answered': False, 'view_count': 8581, 'answer_count': 1, 'score': 1, 'last_activity_date': 1752318240, 'creation_date': 1613920833, 'last_edit_date': 1614769558, 'question_id': 66303835, 'content_license': 'CC BY-SA 4.0', 'link': 'https://stackoverflow.com/questions/66303835/checkmarx-unsafe-object-binding', 'title': 'Checkmarx: Unsafe object binding'}, {'tags': ['html', 'image', 'directory', 'notepad'], 'owner': {'account_id': 18512608, 'reputation': 1, 'user_id': 13487448, 'user_type': 'registered', 'profile_image': 'https://www.gravatar.com/avatar/b89b0849eb60704223e7dc7aadf74be4?s=256&d=identicon&r=PG&f=y&so-version=2', 'display_name': 'Infinity868', 'link': 'https://stackoverflow.com/users/13487448/infinity868'}, 'is_answered': False, 'view_count': 25597, 'answer_count': 2, 'score': 0, 'last_activity_date': 1752318240, 'creation_date': 1588818716, 'question_id': 61648863, 'content_license': 'CC BY-SA 4.0', 'link': 'https://stackoverflow.com/questions/61648863/how-do-i-add-multiple-pages-to-my-html-website-in-notepad', 'title': 'How do I add multiple pages to my html website in notepad?'}, {'tags': ['java', 'json', 'hibernate', 'jpa', 'spring-data'], 'owner': {'account_id': 324759, 'reputation': 1667, 'user_id': 645536, 'user_type': 'registered', 'accept_rate': 50, 'profile_image': 'https://www.gravatar.com/avatar/dccba6feed6b02e32391e34559fedb25?s=256&d=identicon&r=PG&f=y&so-version=2', 'display_name': 'anirus', 'link': 'https://stackoverflow.com/users/645536/anirus'}, 'is_answered': False, 'view_count': 10022, 'answer_count': 3, 'score': 4, 'last_activity_date': 1752318240, 'creation_date': 1490412390, 'last_edit_date': 1490450513, 'question_id': 43012174, 'content_license': 'CC BY-SA 3.0', 'link': 'https://stackoverflow.com/questions/43012174/save-entity-object-with-foreign-key-using-crudrepository', 'title': 'Save entity object with foreign key using CrudRepository'}, {'tags': ['spring-boot', 'openldap', 'spring-ldap'], 'owner': {'account_id': 2411615, 'reputation': 1043, 'user_id': 2106556, 'user_type': 'registered', 'accept_rate': 75, 'profile_image': 'https://www.gravatar.com/avatar/b307a460f2175c919dcf7841cd26a442?s=256&d=identicon&r=PG', 'display_name': 'wmfairuz', 'link': 'https://stackoverflow.com/users/2106556/wmfairuz'}, 'is_answered': False, 'view_count': 9848, 'answer_count': 1, 'score': 1, 'last_activity_date': 1752318240, 'creation_date': 1450781077, 'question_id': 34413972, 'content_license': 'CC BY-SA 3.0', 'link': 'https://stackoverflow.com/questions/34413972/invocation-of-init-method-failed-nested-exception-is-java-lang-abstractmethoder', 'title': 'Invocation of init method failed; nested exception is java.lang.AbstractMethodError'}, {'tags': ['python', 'android', 'ios', 'kotlin', 'android-studio'], 'owner': {'account_id': 42991274, 'reputation': 1, 'user_id': 31021893, 'user_type': 'registered', 'profile_image': 'https://www.gravatar.com/avatar/5ba67075dc12bfe70195ea4e6c428ac8?s=256&d=identicon&r=PG&f=y&so-version=2', 'display_name': 'Rayyan Shaik', 'link': 'https://stackoverflow.com/users/31021893/rayyan-shaik'}, 'is_answered': False, 'view_count': 18, 'closed_date': 1752318552, 'answer_count': 0, 'score': -3, 'last_activity_date': 1752318143, 'creation_date': 1752318143, 'question_id': 79699216, 'link': 'https://stackoverflow.com/questions/79699216/beginner-trying-to-build-a-mobile-app-from-scratch-what-tools-language-and-f', 'closed_reason': 'Not suitable for this site', 'title': 'Beginner Trying to Build a Mobile App from Scratch — What Tools, Language, and Frameworks Should I Use in 2025?'}, {'tags': ['reactjs', 'tailwind-css', 'postcss'], 'owner': {'account_id': 29733727, 'reputation': 1, 'user_id': 22787754, 'user_type': 'registered', 'profile_image': 'https://www.gravatar.com/avatar/49a8ae995f6640858cefd58155cc8248?s=256&d=identicon&r=PG&f=y&so-version=2', 'display_name': 'DrRangoo', 'link': 'https://stackoverflow.com/users/22787754/drrangoo'}, 'is_answered': False, 'view_count': 6, 'answer_count': 0, 'score': -1, 'last_activity_date': 1752318123, 'creation_date': 1752318123, 'question_id': 79699215, 'content_license': 'CC BY-SA 4.0', 'link': 'https://stackoverflow.com/questions/79699215/add-font-in-tailwind-vite-project', 'title': 'Add Font in Tailwind (Vite Project)'}]\n"
          ]
        }
      ]
    },
    {
      "cell_type": "code",
      "source": [
        "for questions in response.json()[\"items\"]:\n",
        "  print (questions['title'])\n",
        "  print (questions['link'])\n",
        "  print ()"
      ],
      "metadata": {
        "colab": {
          "base_uri": "https://localhost:8080/"
        },
        "id": "RQVfKPXtX29Y",
        "outputId": "fa653005-a71b-4245-eab4-d03897377a15"
      },
      "execution_count": 8,
      "outputs": [
        {
          "output_type": "stream",
          "name": "stdout",
          "text": [
            "Is the finish awaited process executed using multi thread or interrupt function in this scenario\n",
            "https://stackoverflow.com/questions/79699227/is-the-finish-awaited-process-executed-using-multi-thread-or-interrupt-function\n",
            "\n",
            "Is it possible to route traffic through another server with HAProxy?\n",
            "https://stackoverflow.com/questions/79693542/is-it-possible-to-route-traffic-through-another-server-with-haproxy\n",
            "\n",
            "Why does this CMake list variable expansion not behave as expected?\n",
            "https://stackoverflow.com/questions/79693529/why-does-this-cmake-list-variable-expansion-not-behave-as-expected\n",
            "\n",
            "Get model in the controller\n",
            "https://stackoverflow.com/questions/43190746/get-model-in-the-controller\n",
            "\n",
            "Laragon + Visual Studio Php Server &amp; Live Server + Live Server Web Extension Not Auto-Reloading Together\n",
            "https://stackoverflow.com/questions/79699197/laragon-visual-studio-php-server-live-server-live-server-web-extension-not\n",
            "\n",
            "Get the url from mozilla firefox\n",
            "https://stackoverflow.com/questions/29557642/get-the-url-from-mozilla-firefox\n",
            "\n",
            "JQuery hide() not work on Mozzila but works on Chrome\n",
            "https://stackoverflow.com/questions/29531727/jquery-hide-not-work-on-mozzila-but-works-on-chrome\n",
            "\n",
            "Inject Javascript in Firefox\n",
            "https://stackoverflow.com/questions/29639448/inject-javascript-in-firefox\n",
            "\n",
            "Refactoring minimal web application pattern into classic full Program.cs with main\n",
            "https://stackoverflow.com/questions/79699143/refactoring-minimal-web-application-pattern-into-classic-full-program-cs-with-ma\n",
            "\n",
            "Firefox addon inline installation from website\n",
            "https://stackoverflow.com/questions/29830253/firefox-addon-inline-installation-from-website\n",
            "\n",
            "Can&#39;t mach build Fennec for Android\n",
            "https://stackoverflow.com/questions/29823431/cant-mach-build-fennec-for-android\n",
            "\n",
            "CodeIgniter renders an invalid query when an empty array is passed into where_in()\n",
            "https://stackoverflow.com/questions/22356372/codeigniter-renders-an-invalid-query-when-an-empty-array-is-passed-into-where-in\n",
            "\n",
            "Core ML Fetching decryption key from server failed\n",
            "https://stackoverflow.com/questions/76314647/core-ml-fetching-decryption-key-from-server-failed\n",
            "\n",
            "Unable to mock a JSON response in Spring RestTemplate\n",
            "https://stackoverflow.com/questions/56573173/unable-to-mock-a-json-response-in-spring-resttemplate\n",
            "\n",
            "Creating a login section - Im new an need some serious direction please!\n",
            "https://stackoverflow.com/questions/438405/creating-a-login-section-im-new-an-need-some-serious-direction-please\n",
            "\n",
            "Why is expo not refreshing when I save changes?\n",
            "https://stackoverflow.com/questions/62732197/why-is-expo-not-refreshing-when-i-save-changes\n",
            "\n",
            "Cannot connect to Mongo Atlas from Flask App inside Docker with Nginx\n",
            "https://stackoverflow.com/questions/79699218/cannot-connect-to-mongo-atlas-from-flask-app-inside-docker-with-nginx\n",
            "\n",
            "Removing Python venv from OneDrive\n",
            "https://stackoverflow.com/questions/73815565/removing-python-venv-from-onedrive\n",
            "\n",
            "No user context present after finishing Oauth2 flow\n",
            "https://stackoverflow.com/questions/79696979/no-user-context-present-after-finishing-oauth2-flow\n",
            "\n",
            "How to accept incoming Teams call in ACS Call Automation SDK and transfer to SIP without Teams Phone license?\n",
            "https://stackoverflow.com/questions/79696298/how-to-accept-incoming-teams-call-in-acs-call-automation-sdk-and-transfer-to-sip\n",
            "\n",
            "csv file wide to long. Float value gets truncated and getting integer for index column\n",
            "https://stackoverflow.com/questions/79695141/csv-file-wide-to-long-float-value-gets-truncated-and-getting-integer-for-index\n",
            "\n",
            "Calling snowflake udtf from snowflake stored procedure\n",
            "https://stackoverflow.com/questions/79699219/calling-snowflake-udtf-from-snowflake-stored-procedure\n",
            "\n",
            "How to handle token limit issues when processing large JSON responses via MCP client-server with LLMs?\n",
            "https://stackoverflow.com/questions/79699217/how-to-handle-token-limit-issues-when-processing-large-json-responses-via-mcp-cl\n",
            "\n",
            "Increase tmp_table_size/max_heap_table_size does not improve Tmp_Tables_ToDisk percentage\n",
            "https://stackoverflow.com/questions/79699194/increase-tmp-table-size-max-heap-table-size-does-not-improve-tmp-tables-todisk-p\n",
            "\n",
            "Checkmarx: Unsafe object binding\n",
            "https://stackoverflow.com/questions/66303835/checkmarx-unsafe-object-binding\n",
            "\n",
            "How do I add multiple pages to my html website in notepad?\n",
            "https://stackoverflow.com/questions/61648863/how-do-i-add-multiple-pages-to-my-html-website-in-notepad\n",
            "\n",
            "Save entity object with foreign key using CrudRepository\n",
            "https://stackoverflow.com/questions/43012174/save-entity-object-with-foreign-key-using-crudrepository\n",
            "\n",
            "Invocation of init method failed; nested exception is java.lang.AbstractMethodError\n",
            "https://stackoverflow.com/questions/34413972/invocation-of-init-method-failed-nested-exception-is-java-lang-abstractmethoder\n",
            "\n",
            "Beginner Trying to Build a Mobile App from Scratch — What Tools, Language, and Frameworks Should I Use in 2025?\n",
            "https://stackoverflow.com/questions/79699216/beginner-trying-to-build-a-mobile-app-from-scratch-what-tools-language-and-f\n",
            "\n",
            "Add Font in Tailwind (Vite Project)\n",
            "https://stackoverflow.com/questions/79699215/add-font-in-tailwind-vite-project\n",
            "\n"
          ]
        }
      ]
    },
    {
      "cell_type": "code",
      "source": [
        "for questions in response.json()['items']:\n",
        "  if questions['answer_count']==0:\n",
        "    print(questions['title'])\n",
        "    print(questions['link'])\n",
        "else:\n",
        "    print(\"skipped\")\n",
        "print ()"
      ],
      "metadata": {
        "colab": {
          "base_uri": "https://localhost:8080/"
        },
        "id": "lbBHSAFFZoGY",
        "outputId": "420956ab-2c3b-4ac5-e8ed-7ee68277b17b"
      },
      "execution_count": 16,
      "outputs": [
        {
          "output_type": "stream",
          "name": "stdout",
          "text": [
            "Is the finish awaited process executed using multi thread or interrupt function in this scenario\n",
            "https://stackoverflow.com/questions/79699227/is-the-finish-awaited-process-executed-using-multi-thread-or-interrupt-function\n",
            "Why does this CMake list variable expansion not behave as expected?\n",
            "https://stackoverflow.com/questions/79693529/why-does-this-cmake-list-variable-expansion-not-behave-as-expected\n",
            "Get the url from mozilla firefox\n",
            "https://stackoverflow.com/questions/29557642/get-the-url-from-mozilla-firefox\n",
            "Refactoring minimal web application pattern into classic full Program.cs with main\n",
            "https://stackoverflow.com/questions/79699143/refactoring-minimal-web-application-pattern-into-classic-full-program-cs-with-ma\n",
            "Cannot connect to Mongo Atlas from Flask App inside Docker with Nginx\n",
            "https://stackoverflow.com/questions/79699218/cannot-connect-to-mongo-atlas-from-flask-app-inside-docker-with-nginx\n",
            "No user context present after finishing Oauth2 flow\n",
            "https://stackoverflow.com/questions/79696979/no-user-context-present-after-finishing-oauth2-flow\n",
            "How to accept incoming Teams call in ACS Call Automation SDK and transfer to SIP without Teams Phone license?\n",
            "https://stackoverflow.com/questions/79696298/how-to-accept-incoming-teams-call-in-acs-call-automation-sdk-and-transfer-to-sip\n",
            "Calling snowflake udtf from snowflake stored procedure\n",
            "https://stackoverflow.com/questions/79699219/calling-snowflake-udtf-from-snowflake-stored-procedure\n",
            "How to handle token limit issues when processing large JSON responses via MCP client-server with LLMs?\n",
            "https://stackoverflow.com/questions/79699217/how-to-handle-token-limit-issues-when-processing-large-json-responses-via-mcp-cl\n",
            "Increase tmp_table_size/max_heap_table_size does not improve Tmp_Tables_ToDisk percentage\n",
            "https://stackoverflow.com/questions/79699194/increase-tmp-table-size-max-heap-table-size-does-not-improve-tmp-tables-todisk-p\n",
            "Beginner Trying to Build a Mobile App from Scratch — What Tools, Language, and Frameworks Should I Use in 2025?\n",
            "https://stackoverflow.com/questions/79699216/beginner-trying-to-build-a-mobile-app-from-scratch-what-tools-language-and-f\n",
            "Add Font in Tailwind (Vite Project)\n",
            "https://stackoverflow.com/questions/79699215/add-font-in-tailwind-vite-project\n",
            "skipped\n",
            "\n"
          ]
        }
      ]
    },
    {
      "cell_type": "code",
      "source": [],
      "metadata": {
        "id": "hTFus9C4b1lo"
      },
      "execution_count": null,
      "outputs": []
    }
  ]
}